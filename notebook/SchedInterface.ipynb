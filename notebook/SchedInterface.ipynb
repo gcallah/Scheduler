{
 "cells": [
  {
   "cell_type": "markdown",
   "metadata": {},
   "source": [
    "# Welcome to Scheduler!\n",
    "\n",
    "### Getting started\n",
    "To begin, please choose a way you'd like to input your data. The first option allows you to load an excel spreadsheet with your own data. The second option loads some sample data for you to see the process and understand how the scheduling system works.\n"
   ]
  },
  {
   "cell_type": "markdown",
   "metadata": {},
   "source": [
    "Run the command (shift+enter) below to ensure we are in the correct directory:"
   ]
  },
  {
   "cell_type": "code",
   "execution_count": 2,
   "metadata": {},
   "outputs": [
    {
     "name": "stdout",
     "output_type": "stream",
     "text": [
      "C:\\Users\\dolly\\Scheduler\\scheduler\n"
     ]
    }
   ],
   "source": [
    "cd ../scheduler"
   ]
  },
  {
   "cell_type": "markdown",
   "metadata": {},
   "source": [
    "Run the command below to ensure we have the necessary packages needed to run our scheduler (pandas and xlrd):"
   ]
  },
  {
   "cell_type": "code",
   "execution_count": 3,
   "metadata": {
    "scrolled": true
   },
   "outputs": [
    {
     "name": "stdout",
     "output_type": "stream",
     "text": [
      "Requirement already satisfied: pandas in c:\\users\\dolly\\appdata\\local\\programs\\python\\python37-32\\lib\\site-packages (0.25.1)\n",
      "Requirement already satisfied: pytz>=2017.2 in c:\\users\\dolly\\appdata\\local\\programs\\python\\python37-32\\lib\\site-packages (from pandas) (2019.2)\n",
      "Requirement already satisfied: python-dateutil>=2.6.1 in c:\\users\\dolly\\appdata\\local\\programs\\python\\python37-32\\lib\\site-packages (from pandas) (2.8.0)\n",
      "Requirement already satisfied: numpy>=1.13.3 in c:\\users\\dolly\\appdata\\local\\programs\\python\\python37-32\\lib\\site-packages (from pandas) (1.17.2)\n",
      "Requirement already satisfied: six>=1.5 in c:\\users\\dolly\\appdata\\local\\programs\\python\\python37-32\\lib\\site-packages (from python-dateutil>=2.6.1->pandas) (1.12.0)\n"
     ]
    },
    {
     "name": "stderr",
     "output_type": "stream",
     "text": [
      "WARNING: You are using pip version 19.2.3, however version 19.3.1 is available.\n",
      "You should consider upgrading via the 'python -m pip install --upgrade pip' command.\n"
     ]
    },
    {
     "name": "stdout",
     "output_type": "stream",
     "text": [
      "Requirement already satisfied: xlrd in c:\\users\\dolly\\appdata\\local\\programs\\python\\python37-32\\lib\\site-packages (1.2.0)\n"
     ]
    },
    {
     "name": "stderr",
     "output_type": "stream",
     "text": [
      "WARNING: You are using pip version 19.2.3, however version 19.3.1 is available.\n",
      "You should consider upgrading via the 'python -m pip install --upgrade pip' command.\n"
     ]
    }
   ],
   "source": [
    "!pip3 install pandas\n",
    "!pip3 install xlrd"
   ]
  },
  {
   "cell_type": "markdown",
   "metadata": {},
   "source": [
    "### Loading an Excel Spreadsheet\n",
    "\n",
    "This is the first option, where you can load an excel sheet that contains your data. In this example, we will be loading from the excel file 'my_data.xl'. You can download, edit and update the excel sheet to reflect your data and reupload here. When this is done, run the cell below to properly load your data into the scheduling system!"
   ]
  },
  {
   "cell_type": "code",
   "execution_count": 4,
   "metadata": {},
   "outputs": [
    {
     "name": "stdout",
     "output_type": "stream",
     "text": [
      "Data loaded successfully!\n"
     ]
    }
   ],
   "source": [
    "\n",
    "import pandas as pd\n",
    "from IPython.display import display \n",
    "\n",
    "df = pd.read_excel('my_data.xlsx')\n",
    "\n",
    "prof_df = df.iloc[:,0:4]\n",
    "prof_df['prof_courses'] = prof_df['prof_courses'].str.replace(', ',',')\n",
    "rooms_df = df.iloc[:,4:6]\n",
    "rooms_df.dropna(inplace=True)\n",
    "rooms_df['room_capacity'] = rooms_df['room_capacity'].astype(u'int8')\n",
    "rooms_df['rooms'] = rooms_df['rooms'].astype('str')\n",
    "courses_df = df.iloc[:,6:]\n",
    "courses_df.dropna(inplace=True)\n",
    "\n",
    "professors = []\n",
    "prof_info = {}\n",
    "for index, row in prof_df.iterrows():\n",
    "        data = {}\n",
    "        prof = row['professor']\n",
    "        professors.append(prof)\n",
    "        courses = row['prof_courses'].split(',')\n",
    "        data['courses'] = courses\n",
    "        data['start_time'] = row['prof_start_time']\n",
    "        data['end_time'] = row['prof_end_time']\n",
    "        prof_info[prof] = data\n",
    "        \n",
    "rooms = []\n",
    "room_capacities = {}\n",
    "for _, row in rooms_df.iterrows():\n",
    "    room = row['rooms']\n",
    "    room_capacities[room] = row['room_capacity']\n",
    "    rooms.append(room)\n",
    "\n",
    "courses = []\n",
    "course_no_students = {}\n",
    "course_mins = {}\n",
    "course_days_weekly = {}\n",
    "for _, row in courses_df.iterrows():\n",
    "    course = row['course']\n",
    "    courses.append(course)\n",
    "    course_no_students[course] = int(row['course_no_students'])\n",
    "    course_mins[course] = int(row['course_mins'])\n",
    "    course_days_weekly[course] = int(row['course_days_weekly'])\n",
    "print(\"Data loaded successfully!\")"
   ]
  },
  {
   "cell_type": "markdown",
   "metadata": {},
   "source": [
    "Before continuing, you can run the commands below to ensure the professors, classrooms and courses you inputted are correct:"
   ]
  },
  {
   "cell_type": "code",
   "execution_count": 5,
   "metadata": {},
   "outputs": [
    {
     "name": "stdout",
     "output_type": "stream",
     "text": [
      "John Smith\n",
      "Lisa Jones\n",
      "Tim Simpson\n",
      "Simon Valinski\n",
      "Lisa Mullen\n",
      "Jamir Abdullah'\n",
      "Mike Williams\n",
      "Rachel Smith\n",
      "Gregg Woods\n",
      "Chu Yen\n",
      "Peter Parker\n",
      "Elizabeth Walker\n",
      "Brian K. Dickson\n"
     ]
    }
   ],
   "source": [
    "print('\\n'.join(professors))"
   ]
  },
  {
   "cell_type": "code",
   "execution_count": 6,
   "metadata": {},
   "outputs": [
    {
     "name": "stdout",
     "output_type": "stream",
     "text": [
      "655\n",
      "666\n",
      "745a\n",
      "745b\n",
      "433\n",
      "201\n",
      "115a\n",
      "115b\n"
     ]
    }
   ],
   "source": [
    "print('\\n'.join(rooms))"
   ]
  },
  {
   "cell_type": "code",
   "execution_count": 7,
   "metadata": {},
   "outputs": [
    {
     "name": "stdout",
     "output_type": "stream",
     "text": [
      "physics\n",
      "astrophysics\n",
      "calculus 1\n",
      "calculus 4\n",
      "biology 1\n",
      "biology 2\n",
      "molecular biology\n",
      "biochemistry\n",
      "chemistry\n"
     ]
    }
   ],
   "source": [
    "print('\\n'.join(courses))"
   ]
  },
  {
   "cell_type": "markdown",
   "metadata": {},
   "source": [
    "### Loading Sample Data\n",
    "This is the second option, where sample data is loaded instead of an Excel spreadsheet being used to retrieve data. \n",
    "Running the command below will generate the sample data. This will take data from a python file in which you can edit courses, teachers and classrooms, called 'datamaker.py' and export that generated data into a text file called 'sample_data.txt'."
   ]
  },
  {
   "cell_type": "code",
   "execution_count": 8,
   "metadata": {},
   "outputs": [],
   "source": [
    "import json\n",
    "import datamaker\n",
    "\n",
    "datamaker.make_data()"
   ]
  },
  {
   "cell_type": "markdown",
   "metadata": {},
   "source": [
    "Now, we can run the command below to load the sample data to our program:"
   ]
  },
  {
   "cell_type": "code",
   "execution_count": 9,
   "metadata": {},
   "outputs": [],
   "source": [
    "input_file = \"sample_data.txt\"\n",
    "with open(input_file,'r') as f:\n",
    "    data = json.load(f)\n",
    "    \n",
    "professors = data['professors']\n",
    "prof_info = data['prof_info']\n",
    "rooms = data['rooms']\n",
    "room_capacities = data['room_capacities']\n",
    "courses = data['courses']\n",
    "course_no_students = data['course_no_students']\n",
    "course_mins = data['course_mins']\n",
    "course_days_weekly = data['course_days_weekly']"
   ]
  },
  {
   "cell_type": "markdown",
   "metadata": {},
   "source": [
    "Before continuing, you can run the commands below to ensure the professors, classrooms and courses are correct:"
   ]
  },
  {
   "cell_type": "code",
   "execution_count": 10,
   "metadata": {
    "scrolled": true
   },
   "outputs": [
    {
     "name": "stdout",
     "output_type": "stream",
     "text": [
      "John Smith\n",
      "Lisa Jones\n",
      "Mike Williams\n",
      "Tim Simpson\n",
      "Rachel Smith\n",
      "Gregg Woods\n",
      "Simon Valinski\n",
      "Chu Yen\n",
      "Peter Parker\n",
      "Lisa Mullen\n",
      "Elizabeth Walker\n",
      "Brian K. Dickson\n",
      "Jamir Abdullah\n"
     ]
    }
   ],
   "source": [
    "print('\\n'.join(professors))"
   ]
  },
  {
   "cell_type": "code",
   "execution_count": 11,
   "metadata": {
    "scrolled": true
   },
   "outputs": [
    {
     "name": "stdout",
     "output_type": "stream",
     "text": [
      "655\n",
      "666\n",
      "745a\n",
      "745b\n",
      "433\n",
      "201\n",
      "115a\n",
      "115b\n"
     ]
    }
   ],
   "source": [
    "print('\\n'.join(rooms))"
   ]
  },
  {
   "cell_type": "code",
   "execution_count": 12,
   "metadata": {},
   "outputs": [
    {
     "name": "stdout",
     "output_type": "stream",
     "text": [
      "physics\n",
      "chemistry\n",
      "biochemistry\n",
      "biology 1\n",
      "biology 2\n",
      "molecular biology\n",
      "calculus 1\n",
      "calculus 4\n",
      "astrophysics\n"
     ]
    }
   ],
   "source": [
    "print('\\n'.join(courses))"
   ]
  },
  {
   "cell_type": "markdown",
   "metadata": {},
   "source": [
    "The scheduler program will now take the courses shown above and find a professor, classroom and time that works."
   ]
  },
  {
   "cell_type": "markdown",
   "metadata": {},
   "source": [
    "### Scheduling the Teachers, Courses and Classrooms "
   ]
  },
  {
   "cell_type": "markdown",
   "metadata": {},
   "source": [
    "The following two cells will import necessary classes and format the data accordingly so that we can compute the class schedule:"
   ]
  },
  {
   "cell_type": "code",
   "execution_count": 16,
   "metadata": {},
   "outputs": [],
   "source": [
    "from teachercourse_csp import assigner"
   ]
  },
  {
   "cell_type": "code",
   "execution_count": 17,
   "metadata": {},
   "outputs": [],
   "source": [
    "def time_formatter(course, start_time):\n",
    "    hs,ms = start_time\n",
    "    end = hs*6 + ms//10 + course_mins[course]//10\n",
    "    end_time = (end//6, (end - (end // 6) * 6) * 10)\n",
    "    he,me = end_time\n",
    "    output = '{:0>2}'.format(hs)+':'+'{:0>2}'.format(ms)+' to ' + '{:0>2}'.format(he)+':'+ '{:0>2}'.format(me) \n",
    "    return output"
   ]
  },
  {
   "cell_type": "markdown",
   "metadata": {},
   "source": [
    "With the code block below, we can compute the class schedule."
   ]
  },
  {
   "cell_type": "code",
   "execution_count": 20,
   "metadata": {},
   "outputs": [
    {
     "name": "stdout",
     "output_type": "stream",
     "text": [
      "MON\n",
      "-----\n",
      "\n",
      "TUES\n",
      "-----\n",
      "\n",
      "WED\n",
      "-----\n",
      "\n",
      "THUR\n",
      "-----\n",
      "\n",
      "FRI\n",
      "-----\n",
      "\n"
     ]
    }
   ],
   "source": [
    "user_data = (professors,prof_info,rooms,room_capacities,courses,course_no_students,course_mins,course_days_weekly)\n",
    "full_schedule = assigner(user_data)\n",
    "weekdays = ['mon','tues','wed','thur','fri']\n",
    "\n",
    "columns = ['Day','Course','Professor', 'Room','Period']\n",
    "df_out = pd.DataFrame(None, columns=columns)\n",
    "for day in weekdays:\n",
    "    schedule = full_schedule[day]\n",
    "    print(day.upper())\n",
    "    print('-----')\n",
    "    for var,val in schedule.items():\n",
    "        course,professor = var\n",
    "        room,start_time = val\n",
    "        df_inc = {'Day':day,'Course':[course],'Professor':[professor], 'Room':[room],'Period':[time_formatter(course,start_time)]}\n",
    "        df_inc = pd.DataFrame.from_dict(df_inc)\n",
    "        df_out = pd.concat([df_out,df_inc],ignore_index=True)\n",
    "    print('')"
   ]
  },
  {
   "cell_type": "markdown",
   "metadata": {},
   "source": [
    "Run the command below to display the class schedule in order of day of week, course name, professor, the room and the time."
   ]
  },
  {
   "cell_type": "code",
   "execution_count": 22,
   "metadata": {},
   "outputs": [
    {
     "data": {
      "text/html": [
       "<div>\n",
       "<style scoped>\n",
       "    .dataframe tbody tr th:only-of-type {\n",
       "        vertical-align: middle;\n",
       "    }\n",
       "\n",
       "    .dataframe tbody tr th {\n",
       "        vertical-align: top;\n",
       "    }\n",
       "\n",
       "    .dataframe thead th {\n",
       "        text-align: right;\n",
       "    }\n",
       "</style>\n",
       "<table border=\"1\" class=\"dataframe\">\n",
       "  <thead>\n",
       "    <tr style=\"text-align: right;\">\n",
       "      <th></th>\n",
       "      <th>Day</th>\n",
       "      <th>Course</th>\n",
       "      <th>Professor</th>\n",
       "      <th>Room</th>\n",
       "      <th>Period</th>\n",
       "    </tr>\n",
       "  </thead>\n",
       "  <tbody>\n",
       "    <tr>\n",
       "      <td>0</td>\n",
       "      <td>mon</td>\n",
       "      <td>physics</td>\n",
       "      <td>Chu Yen</td>\n",
       "      <td>115b</td>\n",
       "      <td>16:00 to 17:00</td>\n",
       "    </tr>\n",
       "    <tr>\n",
       "      <td>1</td>\n",
       "      <td>mon</td>\n",
       "      <td>biochemistry</td>\n",
       "      <td>Peter Parker</td>\n",
       "      <td>201</td>\n",
       "      <td>13:30 to 15:00</td>\n",
       "    </tr>\n",
       "    <tr>\n",
       "      <td>2</td>\n",
       "      <td>mon</td>\n",
       "      <td>biology 1</td>\n",
       "      <td>Peter Parker</td>\n",
       "      <td>115b</td>\n",
       "      <td>13:30 to 15:00</td>\n",
       "    </tr>\n",
       "    <tr>\n",
       "      <td>3</td>\n",
       "      <td>mon</td>\n",
       "      <td>biology 2</td>\n",
       "      <td>Rachel Smith</td>\n",
       "      <td>433</td>\n",
       "      <td>11:30 to 12:30</td>\n",
       "    </tr>\n",
       "    <tr>\n",
       "      <td>4</td>\n",
       "      <td>tues</td>\n",
       "      <td>biology 2</td>\n",
       "      <td>Rachel Smith</td>\n",
       "      <td>115b</td>\n",
       "      <td>17:30 to 18:30</td>\n",
       "    </tr>\n",
       "    <tr>\n",
       "      <td>5</td>\n",
       "      <td>wed</td>\n",
       "      <td>physics</td>\n",
       "      <td>Chu Yen</td>\n",
       "      <td>115a</td>\n",
       "      <td>11:00 to 12:00</td>\n",
       "    </tr>\n",
       "    <tr>\n",
       "      <td>6</td>\n",
       "      <td>wed</td>\n",
       "      <td>biochemistry</td>\n",
       "      <td>Peter Parker</td>\n",
       "      <td>433</td>\n",
       "      <td>12:30 to 14:00</td>\n",
       "    </tr>\n",
       "    <tr>\n",
       "      <td>7</td>\n",
       "      <td>wed</td>\n",
       "      <td>biology 2</td>\n",
       "      <td>Rachel Smith</td>\n",
       "      <td>115b</td>\n",
       "      <td>10:00 to 11:00</td>\n",
       "    </tr>\n",
       "    <tr>\n",
       "      <td>8</td>\n",
       "      <td>wed</td>\n",
       "      <td>molecular biology</td>\n",
       "      <td>Peter Parker</td>\n",
       "      <td>115a</td>\n",
       "      <td>10:30 to 11:30</td>\n",
       "    </tr>\n",
       "    <tr>\n",
       "      <td>9</td>\n",
       "      <td>thur</td>\n",
       "      <td>biology 1</td>\n",
       "      <td>Peter Parker</td>\n",
       "      <td>115b</td>\n",
       "      <td>13:00 to 14:30</td>\n",
       "    </tr>\n",
       "    <tr>\n",
       "      <td>10</td>\n",
       "      <td>thur</td>\n",
       "      <td>calculus 4</td>\n",
       "      <td>Chu Yen</td>\n",
       "      <td>666</td>\n",
       "      <td>14:30 to 15:30</td>\n",
       "    </tr>\n",
       "    <tr>\n",
       "      <td>11</td>\n",
       "      <td>fri</td>\n",
       "      <td>physics</td>\n",
       "      <td>Chu Yen</td>\n",
       "      <td>745b</td>\n",
       "      <td>16:00 to 17:00</td>\n",
       "    </tr>\n",
       "    <tr>\n",
       "      <td>12</td>\n",
       "      <td>fri</td>\n",
       "      <td>biology 2</td>\n",
       "      <td>Rachel Smith</td>\n",
       "      <td>745b</td>\n",
       "      <td>10:30 to 11:30</td>\n",
       "    </tr>\n",
       "    <tr>\n",
       "      <td>13</td>\n",
       "      <td>fri</td>\n",
       "      <td>calculus 4</td>\n",
       "      <td>Chu Yen</td>\n",
       "      <td>655</td>\n",
       "      <td>14:00 to 15:00</td>\n",
       "    </tr>\n",
       "  </tbody>\n",
       "</table>\n",
       "</div>"
      ],
      "text/plain": [
       "     Day             Course     Professor  Room          Period\n",
       "0    mon            physics       Chu Yen  115b  16:00 to 17:00\n",
       "1    mon       biochemistry  Peter Parker   201  13:30 to 15:00\n",
       "2    mon          biology 1  Peter Parker  115b  13:30 to 15:00\n",
       "3    mon          biology 2  Rachel Smith   433  11:30 to 12:30\n",
       "4   tues          biology 2  Rachel Smith  115b  17:30 to 18:30\n",
       "5    wed            physics       Chu Yen  115a  11:00 to 12:00\n",
       "6    wed       biochemistry  Peter Parker   433  12:30 to 14:00\n",
       "7    wed          biology 2  Rachel Smith  115b  10:00 to 11:00\n",
       "8    wed  molecular biology  Peter Parker  115a  10:30 to 11:30\n",
       "9   thur          biology 1  Peter Parker  115b  13:00 to 14:30\n",
       "10  thur         calculus 4       Chu Yen   666  14:30 to 15:30\n",
       "11   fri            physics       Chu Yen  745b  16:00 to 17:00\n",
       "12   fri          biology 2  Rachel Smith  745b  10:30 to 11:30\n",
       "13   fri         calculus 4       Chu Yen   655  14:00 to 15:00"
      ]
     },
     "metadata": {},
     "output_type": "display_data"
    }
   ],
   "source": [
    "display(df_out)"
   ]
  },
  {
   "cell_type": "markdown",
   "metadata": {},
   "source": [
    "You're done! Congratulations and thank you for using the Class Scheduler notebook!!"
   ]
  }
 ],
 "metadata": {
  "kernelspec": {
   "display_name": "Python 3",
   "language": "python",
   "name": "python3"
  },
  "language_info": {
   "codemirror_mode": {
    "name": "ipython",
    "version": 3
   },
   "file_extension": ".py",
   "mimetype": "text/x-python",
   "name": "python",
   "nbconvert_exporter": "python",
   "pygments_lexer": "ipython3",
   "version": "3.7.4"
  }
 },
 "nbformat": 4,
 "nbformat_minor": 2
}
